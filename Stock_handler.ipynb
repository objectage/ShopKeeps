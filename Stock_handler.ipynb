{
 "cells": [
  {
   "cell_type": "markdown",
   "metadata": {},
   "source": [
    "    Stock handling page:"
   ]
  },
  {
   "cell_type": "code",
   "execution_count": 1,
   "metadata": {},
   "outputs": [
    {
     "name": "stdout",
     "output_type": "stream",
     "text": [
      "Connection successful\n"
     ]
    }
   ],
   "source": [
    "#Connection check: status - complete\n",
    "\n",
    "import mysql.connector\n",
    "\n",
    "mydb = mysql.connector.connect( user='root', password='abcd',\n",
    "                                host='127.0.0.1', database='shopkeeps',\n",
    "                               auth_plugin='mysql_native_password')\n",
    "\n",
    "if (mydb):\n",
    "    print('Connection successful')\n",
    "else:\n",
    "    print('Connections failed')"
   ]
  },
  {
   "cell_type": "code",
   "execution_count": 2,
   "metadata": {},
   "outputs": [],
   "source": [
    "# Check for item : status - complete\n",
    "def item_exists(item):\n",
    "    cursor=mydb.cursor()\n",
    "   \n",
    "    cursor.execute('select iname from itemmaster')\n",
    "    items=cursor.fetchall()\n",
    "    \n",
    "    if (item,) in items:\n",
    "        return(1)\n",
    "            \n",
    "    else:\n",
    "        return(0)\n",
    "#item_exists('bread')"
   ]
  },
  {
   "cell_type": "code",
   "execution_count": 3,
   "metadata": {},
   "outputs": [],
   "source": [
    "# icode generator : status - completed\n",
    "def icode_gen():\n",
    "    import random\n",
    "    import string\n",
    " \n",
    "    def random_string_generator(str_size):\n",
    "        return ''.join(str(random.randint(0,9)) for x in range(str_size)) \n",
    "    size = 4\n",
    "    icode=random_string_generator(size)\n",
    "    \n",
    "    cursor=mydb.cursor()\n",
    "    \n",
    "    cursor.execute('select icode from itemmaster')\n",
    "    codes=cursor.fetchall()\n",
    "    if (icode,) in codes:\n",
    "        icode_gen()\n",
    "    else: \n",
    "        return(icode)\n",
    "#print(icode_gen())"
   ]
  },
  {
   "cell_type": "code",
   "execution_count": 4,
   "metadata": {},
   "outputs": [
    {
     "name": "stdout",
     "output_type": "stream",
     "text": [
      "Already exists\n"
     ]
    }
   ],
   "source": [
    "#Adding stock: Status -   \n",
    "def add_item(item,unit,price,stock,category):\n",
    "    cursor=mydb.cursor()\n",
    "    \n",
    "    exists=item_exists(item)\n",
    "    \n",
    "    if exists==0:\n",
    "        \n",
    "        code=icode_gen()\n",
    "        unit=str(unit)\n",
    "        price=str(price)\n",
    "        stock=str(stock)\n",
    "                \n",
    "        command=str('insert into itemmaster(icode,iname,unit,stock,price,category) values(\"'+code+'\",\"'+item+'\",\"'+unit+'\",'+stock+','+price+',\"'+category+'\")')\n",
    "        \n",
    "        cursor.execute(command)\n",
    "        \n",
    "        print('Item added')\n",
    "    else:\n",
    "        print(\"Already exists\")\n",
    "    mydb.commit()\n",
    "    \n",
    "add_item('dal','kg','80',100,'food')\n",
    "   "
   ]
  },
  {
   "cell_type": "code",
   "execution_count": 5,
   "metadata": {},
   "outputs": [],
   "source": [
    "# stock read : status - complete \n",
    "def read_stock():\n",
    "    cursor=mydb.cursor()\n",
    "    cursor.execute('select * from itemmaster')\n",
    "    x=cursor.fetchall()\n",
    "    for y in x:\n",
    "        print(y)\n",
    "#read_stock()"
   ]
  },
  {
   "cell_type": "code",
   "execution_count": 6,
   "metadata": {},
   "outputs": [],
   "source": [
    "# stock update : status - complete\n",
    "def update_stock(item,fields):\n",
    "    cursor=mydb.cursor()\n",
    "    \n",
    "    exists=item_exists(item)\n",
    "    \n",
    "    if exists==0:\n",
    "        print('No items found')\n",
    "    else:\n",
    "        for x in fields.keys():\n",
    "            if type(fields[x])==str:\n",
    "                fields[x]='\"'+fields[x]+'\"'\n",
    "            command='update itemmaster set '+x+'='+str(fields[x])+' where iname=\"'+item+'\"'\n",
    "            print(command)\n",
    "            cursor.execute(command)\n",
    "            print('Updated')\n",
    "            mydb.commit()\n",
    "#update_stock('pen',{'unit':'No','price':5})"
   ]
  },
  {
   "cell_type": "code",
   "execution_count": 7,
   "metadata": {},
   "outputs": [],
   "source": [
    "# item search : status - complete\n",
    "def item_search(item):\n",
    "    cursor=mydb.cursor()\n",
    "    exists=item_exists(item)\n",
    "    if exists==1:\n",
    "        cursor.execute('select * from itemmaster where iname=\"'+item+'\"')\n",
    "        print(cursor.fetchone())\n",
    "    else:\n",
    "        print('Does not exist')\n",
    "#item_search('pen')"
   ]
  },
  {
   "cell_type": "code",
   "execution_count": 8,
   "metadata": {},
   "outputs": [],
   "source": [
    "#Stock Removal : status - complete\n",
    "def item_removal(item):\n",
    "    cursor=mydb.cursor()\n",
    "   \n",
    "    exists=item_exists(item)\n",
    "    \n",
    "    if exists==1 :\n",
    "        cursor.execute('delete from itemmaster where iname=\"'+item+'\"')\n",
    "        print('Item removed')\n",
    "       \n",
    "    else:\n",
    "        print('Item does not exist')\n",
    "        \n",
    "    mydb.commit()\n",
    "#item_removal('pen')"
   ]
  },
  {
   "cell_type": "code",
   "execution_count": 9,
   "metadata": {},
   "outputs": [],
   "source": [
    "#Stock available : status - complete:\n",
    "def stock_available(iname):\n",
    "    if item_exists(iname)==1:\n",
    "        cursor=mydb.cursor()\n",
    "        cursor.execute('select stock from itemmaster where iname=\"'+iname+'\"')\n",
    "        x=cursor.fetchone()[0]\n",
    "        print(x)\n",
    "        if x>0:\n",
    "            print('Available. Stock left: ',x)\n",
    "        else:\n",
    "            print('Out of stock')\n",
    "    else:\n",
    "        print('Does not exist')\n",
    "#stock_available('pen')"
   ]
  },
  {
   "cell_type": "code",
   "execution_count": 10,
   "metadata": {},
   "outputs": [],
   "source": [
    "# Display items by category: status - complete\n",
    "def category_display():\n",
    "    cursor=mydb.cursor()\n",
    "    cursor.execute('select iname, category from itemmaster group by category')\n",
    "    for x in cursor.fetchall():\n",
    "        print(x)\n",
    "#category_display()"
   ]
  },
  {
   "cell_type": "code",
   "execution_count": 16,
   "metadata": {},
   "outputs": [
    {
     "name": "stdout",
     "output_type": "stream",
     "text": [
      "[('rice', 10), ('pen', 5), ('dal', 2)]\n"
     ]
    }
   ],
   "source": [
    "# Display most sold : status - \n",
    "def stat_sold():\n",
    "    cursor=mydb.cursor()\n",
    "    cursor.execute('Select iname, sold from itemmaster order by sold desc')\n",
    "    x = cursor.fetchall()\n",
    "    print(x)\n",
    "stat_sold()"
   ]
  },
  {
   "cell_type": "code",
   "execution_count": 13,
   "metadata": {},
   "outputs": [
    {
     "name": "stdout",
     "output_type": "stream",
     "text": [
      "Connection successful\n"
     ]
    }
   ],
   "source": [
    "#Connection check: status - complete\n",
    "\n",
    "import mysql.connector\n",
    "\n",
    "mydb = mysql.connector.connect( user='root', password='password',\n",
    "                                host='127.0.0.1', database='shopkeeps',\n",
    "                               auth_plugin='mysql_native_password')\n",
    "\n",
    "if (mydb):\n",
    "    print('Connection successful')\n",
    "else:\n",
    "    print('Connections failed')\n",
    "    \n",
    "    \n",
    "\n",
    "#item_exists(item)\n",
    "#icode_gen()\n",
    "#add_item(item,unit,price,stock,category)\n",
    "#read_stock()\n",
    "#update_stock(item,fields_as_dict)\n",
    "#item_search(item)\n",
    "#XXXXXXXitem_removal(item)XXXXXX\n",
    "#stock_available(item)\n",
    "#category_display()\n",
    "#stat_sold()"
   ]
  }
 ],
 "metadata": {
  "kernelspec": {
   "display_name": "Python 3 (ipykernel)",
   "language": "python",
   "name": "python3"
  },
  "language_info": {
   "codemirror_mode": {
    "name": "ipython",
    "version": 3
   },
   "file_extension": ".py",
   "mimetype": "text/x-python",
   "name": "python",
   "nbconvert_exporter": "python",
   "pygments_lexer": "ipython3",
   "version": "3.9.7"
  }
 },
 "nbformat": 4,
 "nbformat_minor": 2
}
