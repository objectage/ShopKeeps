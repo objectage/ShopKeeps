{
 "cells": [
  {
   "cell_type": "markdown",
   "metadata": {},
   "source": [
    "    Customer orders:"
   ]
  },
  {
   "cell_type": "code",
   "execution_count": 1,
   "metadata": {},
   "outputs": [
    {
     "name": "stdout",
     "output_type": "stream",
     "text": [
      "Connection successful\n"
     ]
    }
   ],
   "source": [
    "#Connection check: status - complete\n",
    "\n",
    "import mysql.connector\n",
    "\n",
    "mydb = mysql.connector.connect( user='root', password='abcd',\n",
    "                                host='127.0.0.1', database='shopkeeps',\n",
    "                               auth_plugin='mysql_native_password')\n",
    "\n",
    "if (mydb):\n",
    "    print('Connection successful')\n",
    "else:\n",
    "    print('Connections failed')"
   ]
  },
  {
   "cell_type": "code",
   "execution_count": 3,
   "metadata": {},
   "outputs": [],
   "source": [
    "# Check for item : status - complete\n",
    "def item_exists(item):\n",
    "    cursor=mydb.cursor()\n",
    "   \n",
    "    cursor.execute('select iname from itemmaster')\n",
    "    items=cursor.fetchall()\n",
    "    \n",
    "    if (item,) in items:\n",
    "        return(1)\n",
    "            \n",
    "    else:\n",
    "        return(0)\n",
    "#item_exists('bread')"
   ]
  },
  {
   "cell_type": "code",
   "execution_count": 4,
   "metadata": {},
   "outputs": [],
   "source": [
    "# Check for order : status - complete\n",
    "def order_exists(ordercode):\n",
    "    cursor=mydb.cursor()\n",
    "   \n",
    "    cursor.execute('select ordercode from orders')\n",
    "    ordercodes=cursor.fetchall()\n",
    "    \n",
    "    if (ordercode,) in ordercodes:\n",
    "        return(1)\n",
    "            \n",
    "    else:\n",
    "        return(0)\n",
    "#order_exists('')"
   ]
  },
  {
   "cell_type": "code",
   "execution_count": 5,
   "metadata": {},
   "outputs": [],
   "source": [
    "# ordercode generator : status - completed\n",
    "def ocode_gen():\n",
    "    import random\n",
    "    import string\n",
    " \n",
    "    def random_string_generator(str_size):\n",
    "        return ''.join(str(random.randint(0,9)) for x in range(str_size)) \n",
    "    size = 7\n",
    "    ocode='OD'+random_string_generator(size)\n",
    "    \n",
    "    cursor=mydb.cursor()\n",
    "    \n",
    "    cursor.execute('select ordercode from orders')\n",
    "    codes=cursor.fetchall()\n",
    "    if (ocode,) in codes:\n",
    "        ocode_gen()\n",
    "    else: \n",
    "        return(ocode)\n",
    "#print(ocode_gen())"
   ]
  },
  {
   "cell_type": "code",
   "execution_count": 6,
   "metadata": {},
   "outputs": [],
   "source": [
    "# order search : status - complete\n",
    "def order_search(code):\n",
    "    cursor=mydb.cursor()\n",
    "    exists=order_exists(code)\n",
    "    if exists==1:\n",
    "        cursor.execute('select * from orders where ordercode=\"'+code+'\"')\n",
    "        print(cursor.fetchone())\n",
    "    else:\n",
    "        print('Does not exist')\n",
    "#order_search('')"
   ]
  },
  {
   "cell_type": "code",
   "execution_count": 7,
   "metadata": {},
   "outputs": [],
   "source": [
    "#Order Removal : status - complete\n",
    "def order_removal(ordercode):\n",
    "    cursor=mydb.cursor()\n",
    "   \n",
    "    exists=order_exists(ordercode)\n",
    "    \n",
    "    if exists==1 :\n",
    "        cursor.execute('select id from orders where ordercode=\"'+ordercode+'\"')\n",
    "        id=cursor.fetchone()[0]\n",
    "        print(id)\n",
    "        cursor.execute('delete from ordetails where oid='+str(id))\n",
    "        cursor.execute('delete from orders where id='+str(id))\n",
    "        print('Order cancelled')\n",
    "       \n",
    "    else:\n",
    "        print('Order does not exist')\n",
    "        \n",
    "    mydb.commit()\n",
    "#order_removal('RRlvPhfJ')"
   ]
  },
  {
   "cell_type": "code",
   "execution_count": 8,
   "metadata": {},
   "outputs": [],
   "source": [
    "#Stock available : status - \n",
    "def stock_available(iname):\n",
    "    if item_exists(iname)==1:\n",
    "        cursor=mydb.cursor()\n",
    "        cursor.execute('select stock from itemmaster where iname=\"'+iname+'\"')\n",
    "        x=cursor.fetchone()[0]\n",
    "        \n",
    "        if x>0:\n",
    "            return(1)\n",
    "        else:\n",
    "            return(0)\n",
    "    else:\n",
    "        return(0)\n",
    "#stock_available('pen')"
   ]
  },
  {
   "cell_type": "code",
   "execution_count": 9,
   "metadata": {},
   "outputs": [],
   "source": [
    "#total price : status - complete\n",
    "def tprice(ordercode):\n",
    "    cursor=mydb.cursor()\n",
    "    cursor.execute('select id from orders where ordercode=\"'+ordercode+'\"')\n",
    "    oid=cursor.fetchone()[0]\n",
    "    cursor1=mydb.cursor()\n",
    "    cursor1.execute('select sum(price) from ordetails where oid=\"'+str(oid)+'\"')\n",
    "    tprice=cursor1.fetchone()[0]\n",
    "    return(tprice)\n",
    "#print(tprice(''))"
   ]
  },
  {
   "cell_type": "code",
   "execution_count": 10,
   "metadata": {},
   "outputs": [
    {
     "name": "stdout",
     "output_type": "stream",
     "text": [
      "(3, 80.0) 3 80.0 2\n",
      "(2, 100.0) 2 100.0 10\n",
      "Order placed\n",
      "Amount to be payed: 1160.0\n"
     ]
    }
   ],
   "source": [
    "# New order : status -\n",
    "def add_order(items,description=''):\n",
    "    cursor=mydb.cursor()    \n",
    "    ordercode=ocode_gen()\n",
    "    cursor.execute('insert into orders(ordercode,description,tprice) values(\"'+ordercode+'\",\"'+description+'\",0)')\n",
    "    cursor.execute('select id from orders where ordercode=\"'+ordercode+'\"')\n",
    "    oid=cursor.fetchone()[0]\n",
    "\n",
    "    for item in items.keys():\n",
    "        if item_exists(item)==1:\n",
    "            cursor.execute('select stock from itemmaster where iname=\"'+item+'\"')\n",
    "            stock=cursor.fetchone()[0]\n",
    "            i=0\n",
    "            qty=items[item]\n",
    "            \n",
    "            if stock_available(item)==1 and stock-qty>=0:\n",
    "                i=i+1\n",
    "                cursor.execute('select id,price from itemmaster where iname=\"'+item+'\"')\n",
    "                fetch=cursor.fetchone()\n",
    "                itno=fetch[0]\n",
    "                price=fetch[1]\n",
    "                print(fetch,itno,price,qty)\n",
    "                cursor.execute('insert into ordetails(oid,itno,p_unit,qty,price) values('+str(oid)+','+str(itno)+','+str(price)+','+str(qty)+','+str(qty*price)+')')\n",
    "                cursor.execute('update itemmaster set stock='+str(stock-qty)+' where iname=\"'+item+'\"')\n",
    "                cursor.execute('update itemmaster set sold='+str(qty)+' where iname=\"'+item+'\"')\n",
    "\n",
    "                \n",
    "            else:\n",
    "                print('Not enough stock. Stock left: ',stock)\n",
    "        else: \n",
    "            print('item does not exist')\n",
    "    if i>0:\n",
    "        mydb.commit()\n",
    "        totalprice=tprice(ordercode)\n",
    "        cursor.execute('update orders set tprice='+str(totalprice)+' where ordercode=\"'+str(ordercode)+'\"')\n",
    "        mydb.commit()\n",
    "        print('Order placed')\n",
    "        print('Amount to be payed:',totalprice)\n",
    "    \n",
    "add_order(items={'dal':2,'rice':10},description='make it quick')\n",
    "    "
   ]
  },
  {
   "cell_type": "code",
   "execution_count": 11,
   "metadata": {},
   "outputs": [],
   "source": [
    "# Order completion check : status - complete\n",
    "def ord_complete(id):\n",
    "    cursor=mydb.cursor()\n",
    "    cursor.execute('update orders set status=\"complete\" where id='+str(id))\n",
    "    mydb.commit()\n",
    "    print('Order complete')\n",
    "#ord_complete(10)    "
   ]
  },
  {
   "cell_type": "code",
   "execution_count": 12,
   "metadata": {},
   "outputs": [],
   "source": [
    "# Array of orders: status - complete\n",
    "def pending_orders():\n",
    "    cursor=mydb.cursor()\n",
    "    cursor.execute('select id,ordercode from orders order by id')\n",
    "    y=0\n",
    "    for x in cursor.fetchall():\n",
    "        if y!=5:\n",
    "            print(x)\n",
    "            y=y+1\n",
    "        else: \n",
    "            break\n",
    "#pending_orders()"
   ]
  },
  {
   "cell_type": "code",
   "execution_count": 13,
   "metadata": {},
   "outputs": [],
   "source": [
    "# display order: status - complete\n",
    "def order_display(id):\n",
    "    cursor=mydb.cursor()\n",
    "    cursor.execute('select s.iname , p.qty , p.price from itemmaster s, ordetails p where p.oid=10 and s.id=p.itno;')\n",
    "    for item in cursor.fetchall():\n",
    "        print(item)\n",
    "#order_display(12)"
   ]
  },
  {
   "cell_type": "code",
   "execution_count": 14,
   "metadata": {},
   "outputs": [
    {
     "name": "stdout",
     "output_type": "stream",
     "text": [
      "Connection successful\n"
     ]
    }
   ],
   "source": [
    "#Connection check: status - complete\n",
    "\n",
    "import mysql.connector\n",
    "\n",
    "mydb = mysql.connector.connect( user='root', password='password',\n",
    "                                host='127.0.0.1', database='shopkeeps',\n",
    "                               auth_plugin='mysql_native_password')\n",
    "\n",
    "if (mydb):\n",
    "    print('Connection successful')\n",
    "else:\n",
    "    print('Connections failed')\n",
    "    \n",
    "    \n",
    "\n",
    "#item_exists(item)\n",
    "#order_exists(ordercode)\n",
    "#ordercode_gen()\n",
    "#order_search(ordercode)\n",
    "#order_removal(ordercode)\n",
    "#stock_available(item)\n",
    "#tprice(ordercode)\n",
    "#add_order(item_dict,description)\n",
    "#ord_complete(id)\n",
    "#pending_orders()\n",
    "#order_display(id)\n"
   ]
  }
 ],
 "metadata": {
  "kernelspec": {
   "display_name": "Python 3 (ipykernel)",
   "language": "python",
   "name": "python3"
  },
  "language_info": {
   "codemirror_mode": {
    "name": "ipython",
    "version": 3
   },
   "file_extension": ".py",
   "mimetype": "text/x-python",
   "name": "python",
   "nbconvert_exporter": "python",
   "pygments_lexer": "ipython3",
   "version": "3.9.7"
  }
 },
 "nbformat": 4,
 "nbformat_minor": 2
}
