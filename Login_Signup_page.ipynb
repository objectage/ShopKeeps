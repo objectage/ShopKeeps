{
 "cells": [
  {
   "cell_type": "markdown",
   "metadata": {},
   "source": [
    "    Login / Signup page:"
   ]
  },
  {
   "cell_type": "code",
   "execution_count": 2,
   "metadata": {
    "scrolled": true
   },
   "outputs": [
    {
     "name": "stdout",
     "output_type": "stream",
     "text": [
      "Connection successful\n"
     ]
    }
   ],
   "source": [
    "#Connection check: status - complete\n",
    "\n",
    "import mysql.connector\n",
    "\n",
    "mydb = mysql.connector.connect( user='root', password='abcd',\n",
    "                                host='127.0.0.1', database='shopkeeps',\n",
    "                               auth_plugin='mysql_native_password')\n",
    "\n",
    "if (mydb):\n",
    "    print('Connection successful')\n",
    "else:\n",
    "    print('Connections failed')"
   ]
  },
  {
   "cell_type": "code",
   "execution_count": 5,
   "metadata": {
    "scrolled": true
   },
   "outputs": [],
   "source": [
    "# Check for user: status - complete\n",
    "def user_exists(username):\n",
    "    cursor=mydb.cursor()\n",
    "   \n",
    "    cursor.execute('select uname from users')\n",
    "    users=cursor.fetchall()\n",
    "    \n",
    "    if (username,) in users:\n",
    "        return(1)\n",
    "            \n",
    "    else:\n",
    "        return(0)\n",
    "#print(user_exists(''))"
   ]
  },
  {
   "cell_type": "code",
   "execution_count": 6,
   "metadata": {},
   "outputs": [],
   "source": [
    "#Password verification : status - complete\n",
    "def password_check(username, password):\n",
    "    cursor=mydb.cursor()\n",
    "    \n",
    "    cursor.execute('select password from users where uname=\"'+username+'\"')\n",
    "    passwd=cursor.fetchall()\n",
    "   \n",
    "    if (password,) in passwd:\n",
    "        return(1)\n",
    "    else:\n",
    "        return(0)\n",
    "    \n",
    "#print(password_check('X','ok123'))\n",
    "    "
   ]
  },
  {
   "cell_type": "code",
   "execution_count": 7,
   "metadata": {},
   "outputs": [],
   "source": [
    "#Sign up : Status - Complete\n",
    "\n",
    "def signup_input(username, name, password):\n",
    "    cursor=mydb.cursor()\n",
    "   \n",
    "    exists=user_exists(username)\n",
    "    \n",
    "    if exists==1 :\n",
    "        print('Already exists')\n",
    "            \n",
    "    else:\n",
    "        insert='insert into users(uname, name, password) values (%s,%s,%s)'\n",
    "        userdetails=[username, name, password]\n",
    "        cursor.execute(insert,userdetails)\n",
    "        print('User added')\n",
    "        \n",
    "    mydb.commit()\n",
    "#signup_input('X','ohno','ok123')"
   ]
  },
  {
   "cell_type": "code",
   "execution_count": 8,
   "metadata": {},
   "outputs": [],
   "source": [
    "#User Removal : status - complete\n",
    "def user_removal(username, password):\n",
    "    cursor=mydb.cursor()\n",
    "   \n",
    "    exists=user_exists(username)\n",
    "    \n",
    "    if exists==1 :\n",
    "        check=password_check(username, password)\n",
    "        print(check)\n",
    "        if check==1:\n",
    "            cursor.execute('delete from users where uname=\"'+username+'\"')\n",
    "            print('User removed')\n",
    "        else:\n",
    "            print('Password incorrect')\n",
    "            \n",
    "    else:\n",
    "        print('User does not exist')\n",
    "        \n",
    "    mydb.commit()\n",
    "#user_removal('X','ok123')"
   ]
  },
  {
   "cell_type": "code",
   "execution_count": 9,
   "metadata": {},
   "outputs": [],
   "source": [
    "#Login : status - complete ***** Need to add session ID\n",
    "def login(username,password):\n",
    "    exists=user_exists(username)\n",
    "    check=password_check(username,password)\n",
    "    if exists==1 and check==1:\n",
    "        print('Login succesful')\n",
    "        return(1)\n",
    "    else:\n",
    "        print('Username or password is incorrect')\n",
    "        return(0)\n",
    "#login('X','k123')"
   ]
  },
  {
   "cell_type": "code",
   "execution_count": 10,
   "metadata": {},
   "outputs": [],
   "source": [
    "#Read users : status -complete\n",
    "def read_users():\n",
    "    cursor=mydb.cursor()\n",
    "    cursor.execute('select * from users')\n",
    "    x=cursor.fetchall()\n",
    "    for y in x:\n",
    "        print(y)\n",
    "read_users()"
   ]
  },
  {
   "cell_type": "code",
   "execution_count": 11,
   "metadata": {},
   "outputs": [
    {
     "name": "stdout",
     "output_type": "stream",
     "text": [
      "Connection successful\n"
     ]
    }
   ],
   "source": [
    "#Connection check: status - complete\n",
    "\n",
    "import mysql.connector\n",
    "\n",
    "mydb = mysql.connector.connect( user='root', password='password',\n",
    "                                host='127.0.0.1', database='shopkeeps',\n",
    "                               auth_plugin='mysql_native_password')\n",
    "\n",
    "if (mydb):\n",
    "    print('Connection successful')\n",
    "else:\n",
    "    print('Connections failed')\n",
    "    \n",
    "#user_exists(username)\n",
    "#password_check(uname,passwd)\n",
    "#signup_input(username,name,passwd)\n",
    "#user_removal(uname,passwd)\n",
    "#login(uname,pwd)\n",
    "#read_users()\n",
    "\n"
   ]
  },
  {
   "cell_type": "code",
   "execution_count": null,
   "metadata": {},
   "outputs": [],
   "source": []
  }
 ],
 "metadata": {
  "kernelspec": {
   "display_name": "Python 3 (ipykernel)",
   "language": "python",
   "name": "python3"
  },
  "language_info": {
   "codemirror_mode": {
    "name": "ipython",
    "version": 3
   },
   "file_extension": ".py",
   "mimetype": "text/x-python",
   "name": "python",
   "nbconvert_exporter": "python",
   "pygments_lexer": "ipython3",
   "version": "3.9.7"
  }
 },
 "nbformat": 4,
 "nbformat_minor": 2
}
